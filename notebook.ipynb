{
 "cells": [
  {
   "cell_type": "markdown",
   "id": "31f22b8c-a722-4fc9-ba90-ba05d3f6ff10",
   "metadata": {},
   "source": [
    "#Data Science Tools and Ecosystem"
   ]
  },
  {
   "cell_type": "markdown",
   "id": "edf653b7-b87d-4a23-afc8-8ef62e0fcfdc",
   "metadata": {},
   "source": [
    "In this notebook, Data Science Tools and Ecosystem are summarized."
   ]
  },
  {
   "cell_type": "markdown",
   "id": "de5012f5-bc84-489c-9735-7774f52243df",
   "metadata": {},
   "source": [
    "#Some of the popular languages that Data Scientists use are:"
   ]
  },
  {
   "cell_type": "markdown",
   "id": "b9e93870-f9c3-46ea-b28f-46cf7a2c8b5a",
   "metadata": {},
   "source": [
    "python \n",
    "R\n",
    "SQl"
   ]
  },
  {
   "cell_type": "markdown",
   "id": "665ba58f-01bc-459a-947f-c1394cecb672",
   "metadata": {},
   "source": [
    "#Some of the commonly used libraries used by Data Scientists include:"
   ]
  },
  {
   "cell_type": "markdown",
   "id": "cbea8f30-999e-4a23-ae9a-c7b2a68b945d",
   "metadata": {},
   "source": [
    "pandas numpy matplatlib"
   ]
  },
  {
   "cell_type": "markdown",
   "id": "95636f4a-e55c-4648-8238-a0d31f1a091a",
   "metadata": {},
   "source": [
    "#data science tools"
   ]
  },
  {
   "cell_type": "markdown",
   "id": "16cdd753-e9f7-4a6f-b5c7-50b4a5f11216",
   "metadata": {},
   "source": [
    "jupyter nootebook jupyterlab jupyterlite"
   ]
  },
  {
   "cell_type": "markdown",
   "id": "d0c5217c-f030-4c16-8d48-829dc53986c8",
   "metadata": {},
   "source": [
    "#Below are a few examples of evaluating arithmetic expressions in Python"
   ]
  },
  {
   "cell_type": "code",
   "execution_count": 10,
   "id": "5184feb1-ba43-447f-b323-363b24bfb8b6",
   "metadata": {},
   "outputs": [
    {
     "data": {
      "text/plain": [
       "3"
      ]
     },
     "execution_count": 10,
     "metadata": {},
     "output_type": "execute_result"
    }
   ],
   "source": [
    "1+2"
   ]
  },
  {
   "cell_type": "markdown",
   "id": "90612749-7e90-4d32-9d62-f2db870c2894",
   "metadata": {},
   "source": [
    "#This a simple arithmetic expression to mutiply then add integers."
   ]
  },
  {
   "cell_type": "code",
   "execution_count": 13,
   "id": "f7c86f32-63c3-4fa3-b6da-2c53c1f642d5",
   "metadata": {},
   "outputs": [
    {
     "data": {
      "text/plain": [
       "17"
      ]
     },
     "execution_count": 13,
     "metadata": {},
     "output_type": "execute_result"
    }
   ],
   "source": [
    "(3*4)+5"
   ]
  },
  {
   "cell_type": "markdown",
   "id": "1a749c18-a57c-4e8b-81db-e48c8f327f04",
   "metadata": {},
   "source": [
    "#this will convert 200 minutes to hours by diving by 60\n"
   ]
  },
  {
   "cell_type": "code",
   "execution_count": 16,
   "id": "274dd8d6-370e-40e6-9e48-649e29c6975e",
   "metadata": {},
   "outputs": [
    {
     "data": {
      "text/plain": [
       "3.3333333333333335"
      ]
     },
     "execution_count": 16,
     "metadata": {},
     "output_type": "execute_result"
    }
   ],
   "source": [
    "200/60"
   ]
  },
  {
   "cell_type": "markdown",
   "id": "a2b98cc6-a027-4008-9801-7ec0300923e3",
   "metadata": {},
   "source": [
    "#Objectives:"
   ]
  },
  {
   "cell_type": "markdown",
   "id": "dcae8357-44f3-4b55-8a0a-f01a5f575e1c",
   "metadata": {},
   "source": [
    "List popular languages for Data Science"
   ]
  },
  {
   "cell_type": "markdown",
   "id": "b1fa357c-8045-4285-aacc-a9a0f808491d",
   "metadata": {},
   "source": [
    "##Author\n"
   ]
  },
  {
   "cell_type": "markdown",
   "id": "7ee580fc-93f1-462a-b2a0-4a84394c9af4",
   "metadata": {},
   "source": [
    "sasivarnan M"
   ]
  },
  {
   "cell_type": "code",
   "execution_count": null,
   "id": "d6467d3a-f573-4a18-bfc5-0f0186f4d3f3",
   "metadata": {},
   "outputs": [],
   "source": []
  }
 ],
 "metadata": {
  "kernelspec": {
   "display_name": "Python [conda env:base] *",
   "language": "python",
   "name": "conda-base-py"
  },
  "language_info": {
   "codemirror_mode": {
    "name": "ipython",
    "version": 3
   },
   "file_extension": ".py",
   "mimetype": "text/x-python",
   "name": "python",
   "nbconvert_exporter": "python",
   "pygments_lexer": "ipython3",
   "version": "3.12.7"
  }
 },
 "nbformat": 4,
 "nbformat_minor": 5
}
